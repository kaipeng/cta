{
 "metadata": {
  "name": "",
  "signature": "sha256:e419058ca832650fd5a5184ab8824b49ee93017b10639b3aa1f858256dc42269"
 },
 "nbformat": 3,
 "nbformat_minor": 0,
 "worksheets": [
  {
   "cells": [
    {
     "cell_type": "code",
     "collapsed": false,
     "input": [
      "import pandas as pd\n",
      "stops = pd.DataFrame.from_csv('google_transit/stops.txt')\n",
      "stop_times = pd.DataFrame.from_csv('google_transit/stop_times.txt')\n",
      "trips = pd.DataFrame.from_csv('google_transit/trips.txt')\n",
      "calendar = pd.DataFrame.from_csv('google_transit/calendar.txt')"
     ],
     "language": "python",
     "metadata": {},
     "outputs": [],
     "prompt_number": 33
    },
    {
     "cell_type": "heading",
     "level": 1,
     "metadata": {},
     "source": [
      "Find Nearest Stop (in Miles)"
     ]
    },
    {
     "cell_type": "code",
     "collapsed": false,
     "input": [
      "my_loc = [41.8991186,-87.629056]\n",
      "my_stops = stops.copy()\n",
      "my_stops['my_lat'] = my_loc[0]\n",
      "my_stops['my_lon'] = my_loc[1]\n",
      "my_stops['dist'] = ((my_stops.my_lat-my_stops.stop_lat)**2+(my_stops.my_lon-my_stops.stop_lon)**2)**.5 * 69\n",
      "my_stops = my_stops.sort(columns=['dist'])\n",
      "my_stops.head()"
     ],
     "language": "python",
     "metadata": {},
     "outputs": [
      {
       "html": [
        "<div style=\"max-height:1000px;max-width:1500px;overflow:auto;\">\n",
        "<table border=\"1\" class=\"dataframe\">\n",
        "  <thead>\n",
        "    <tr style=\"text-align: right;\">\n",
        "      <th></th>\n",
        "      <th>stop_code</th>\n",
        "      <th>stop_name</th>\n",
        "      <th>stop_desc</th>\n",
        "      <th>stop_lat</th>\n",
        "      <th>stop_lon</th>\n",
        "      <th>location_type</th>\n",
        "      <th>parent_station</th>\n",
        "      <th>wheelchair_boarding</th>\n",
        "      <th>my_lat</th>\n",
        "      <th>my_lon</th>\n",
        "      <th>dist</th>\n",
        "    </tr>\n",
        "    <tr>\n",
        "      <th>stop_id</th>\n",
        "      <th></th>\n",
        "      <th></th>\n",
        "      <th></th>\n",
        "      <th></th>\n",
        "      <th></th>\n",
        "      <th></th>\n",
        "      <th></th>\n",
        "      <th></th>\n",
        "      <th></th>\n",
        "      <th></th>\n",
        "      <th></th>\n",
        "    </tr>\n",
        "  </thead>\n",
        "  <tbody>\n",
        "    <tr>\n",
        "      <th>5375 </th>\n",
        "      <td>  5375</td>\n",
        "      <td>    State &amp; Delaware</td>\n",
        "      <td>    State &amp; Delaware, Southbound, Northwest Corner</td>\n",
        "      <td> 41.899264</td>\n",
        "      <td>-87.628356</td>\n",
        "      <td> 0</td>\n",
        "      <td>NaN</td>\n",
        "      <td> 1</td>\n",
        "      <td> 41.899119</td>\n",
        "      <td>-87.629056</td>\n",
        "      <td> 0.049331</td>\n",
        "    </tr>\n",
        "    <tr>\n",
        "      <th>1895 </th>\n",
        "      <td>  1895</td>\n",
        "      <td> Dearborn &amp; Delaware</td>\n",
        "      <td> Dearborn &amp; Delaware, Northbound, Southeast Corner</td>\n",
        "      <td> 41.899038</td>\n",
        "      <td>-87.629785</td>\n",
        "      <td> 0</td>\n",
        "      <td>NaN</td>\n",
        "      <td> 1</td>\n",
        "      <td> 41.899119</td>\n",
        "      <td>-87.629056</td>\n",
        "      <td> 0.050608</td>\n",
        "    </tr>\n",
        "    <tr>\n",
        "      <th>5389 </th>\n",
        "      <td>  5389</td>\n",
        "      <td>    State &amp; Delaware</td>\n",
        "      <td>    State &amp; Delaware, Northbound, Southeast Corner</td>\n",
        "      <td> 41.899007</td>\n",
        "      <td>-87.628185</td>\n",
        "      <td> 0</td>\n",
        "      <td>NaN</td>\n",
        "      <td> 1</td>\n",
        "      <td> 41.899119</td>\n",
        "      <td>-87.629056</td>\n",
        "      <td> 0.060590</td>\n",
        "    </tr>\n",
        "    <tr>\n",
        "      <th>15412</th>\n",
        "      <td> 15412</td>\n",
        "      <td>    State &amp; Chestnut</td>\n",
        "      <td> State &amp; Chestnut, Southbound, Westside of the ...</td>\n",
        "      <td> 41.898450</td>\n",
        "      <td>-87.628337</td>\n",
        "      <td> 0</td>\n",
        "      <td>NaN</td>\n",
        "      <td> 1</td>\n",
        "      <td> 41.899119</td>\n",
        "      <td>-87.629056</td>\n",
        "      <td> 0.067736</td>\n",
        "    </tr>\n",
        "    <tr>\n",
        "      <th>1896 </th>\n",
        "      <td>  1896</td>\n",
        "      <td>   Walton &amp; Dearborn</td>\n",
        "      <td>    Walton &amp; Dearborn, Westbound, Northwest Corner</td>\n",
        "      <td> 41.899872</td>\n",
        "      <td>-87.629994</td>\n",
        "      <td> 0</td>\n",
        "      <td>NaN</td>\n",
        "      <td> 1</td>\n",
        "      <td> 41.899119</td>\n",
        "      <td>-87.629056</td>\n",
        "      <td> 0.083031</td>\n",
        "    </tr>\n",
        "  </tbody>\n",
        "</table>\n",
        "</div>"
       ],
       "metadata": {},
       "output_type": "pyout",
       "prompt_number": 34,
       "text": [
        "         stop_code            stop_name  \\\n",
        "stop_id                                   \n",
        "5375          5375     State & Delaware   \n",
        "1895          1895  Dearborn & Delaware   \n",
        "5389          5389     State & Delaware   \n",
        "15412        15412     State & Chestnut   \n",
        "1896          1896    Walton & Dearborn   \n",
        "\n",
        "                                                 stop_desc   stop_lat  \\\n",
        "stop_id                                                                 \n",
        "5375        State & Delaware, Southbound, Northwest Corner  41.899264   \n",
        "1895     Dearborn & Delaware, Northbound, Southeast Corner  41.899038   \n",
        "5389        State & Delaware, Northbound, Southeast Corner  41.899007   \n",
        "15412    State & Chestnut, Southbound, Westside of the ...  41.898450   \n",
        "1896        Walton & Dearborn, Westbound, Northwest Corner  41.899872   \n",
        "\n",
        "          stop_lon  location_type  parent_station  wheelchair_boarding  \\\n",
        "stop_id                                                                  \n",
        "5375    -87.628356              0             NaN                    1   \n",
        "1895    -87.629785              0             NaN                    1   \n",
        "5389    -87.628185              0             NaN                    1   \n",
        "15412   -87.628337              0             NaN                    1   \n",
        "1896    -87.629994              0             NaN                    1   \n",
        "\n",
        "            my_lat     my_lon      dist  \n",
        "stop_id                                  \n",
        "5375     41.899119 -87.629056  0.049331  \n",
        "1895     41.899119 -87.629056  0.050608  \n",
        "5389     41.899119 -87.629056  0.060590  \n",
        "15412    41.899119 -87.629056  0.067736  \n",
        "1896     41.899119 -87.629056  0.083031  "
       ]
      }
     ],
     "prompt_number": 34
    },
    {
     "cell_type": "heading",
     "level": 1,
     "metadata": {},
     "source": [
      "Find routes that pass through this stop"
     ]
    },
    {
     "cell_type": "code",
     "collapsed": false,
     "input": [
      "print my_stops.index[0]\n",
      "my_stop_times = stop_times[stop_times.stop_id == my_stops.index[0]]"
     ],
     "language": "python",
     "metadata": {},
     "outputs": [
      {
       "output_type": "stream",
       "stream": "stdout",
       "text": [
        "5375\n"
       ]
      }
     ],
     "prompt_number": 35
    },
    {
     "cell_type": "code",
     "collapsed": false,
     "input": [
      "print my_stop_times.index[0]\n",
      "my_trip = trips[trips.trip_id == my_stop_times.index[0]]\n",
      "my_trip"
     ],
     "language": "python",
     "metadata": {},
     "outputs": [
      {
       "output_type": "stream",
       "stream": "stdout",
       "text": [
        "447083895656\n"
       ]
      },
      {
       "html": [
        "<div style=\"max-height:1000px;max-width:1500px;overflow:auto;\">\n",
        "<table border=\"1\" class=\"dataframe\">\n",
        "  <thead>\n",
        "    <tr style=\"text-align: right;\">\n",
        "      <th></th>\n",
        "      <th>service_id</th>\n",
        "      <th>trip_id</th>\n",
        "      <th>direction_id</th>\n",
        "      <th>block_id</th>\n",
        "      <th>shape_id</th>\n",
        "      <th>direction</th>\n",
        "      <th>wheelchair_accessible</th>\n",
        "      <th>schd_trip_id</th>\n",
        "    </tr>\n",
        "    <tr>\n",
        "      <th>route_id</th>\n",
        "      <th></th>\n",
        "      <th></th>\n",
        "      <th></th>\n",
        "      <th></th>\n",
        "      <th></th>\n",
        "      <th></th>\n",
        "      <th></th>\n",
        "      <th></th>\n",
        "    </tr>\n",
        "  </thead>\n",
        "  <tbody>\n",
        "    <tr>\n",
        "      <th>36</th>\n",
        "      <td> 44701</td>\n",
        "      <td> 447083895656</td>\n",
        "      <td> 0</td>\n",
        "      <td> 447008796123</td>\n",
        "      <td> 4475905</td>\n",
        "      <td> South</td>\n",
        "      <td> 1</td>\n",
        "      <td> 83895656</td>\n",
        "    </tr>\n",
        "  </tbody>\n",
        "</table>\n",
        "</div>"
       ],
       "metadata": {},
       "output_type": "pyout",
       "prompt_number": 37,
       "text": [
        "          service_id       trip_id  direction_id      block_id  shape_id  \\\n",
        "route_id                                                                   \n",
        "36             44701  447083895656             0  447008796123   4475905   \n",
        "\n",
        "         direction  wheelchair_accessible schd_trip_id  \n",
        "route_id                                                \n",
        "36           South                      1     83895656  "
       ]
      }
     ],
     "prompt_number": 37
    },
    {
     "cell_type": "heading",
     "level": 1,
     "metadata": {},
     "source": [
      "Futher filter by calendar (is it running today?) and sort by time to expected arrival"
     ]
    },
    {
     "cell_type": "code",
     "collapsed": false,
     "input": [],
     "language": "python",
     "metadata": {},
     "outputs": []
    }
   ],
   "metadata": {}
  }
 ]
}